{
 "cells": [
  {
   "cell_type": "code",
   "execution_count": 2,
   "id": "1e3ba62f-b307-4195-8c1e-f9911a8865e8",
   "metadata": {},
   "outputs": [
    {
     "name": "stdout",
     "output_type": "stream",
     "text": [
      "A surprising finding in previous studies was that an increase in eGFR was associated with an increased risk of mortality. Whether these observations are generalizable is uncertain, because they were on the basis of data from single centers13,14 and/or cohorts with mean baseline eGFR values of ≥50 ml/min per 1.73 m2.11–16 Improvement in eGFR in a CKD population might show different associations with mortality than that in a general population cohort. In addition, the U-shaped association might be driven by confounding factors, such as weight loss or heart failure. Thus, a comprehensive investigation about eGFR increase and mortality risk is warranted.\n",
      "Over a 3-year antecedent period, median (interquartile range [IQR]) numbers of creatinine measurements were 7 (IQR, 7–7) in the CKD and 5 (IQR, 4–5) in the other (general population/high cardiovascular risk) cohorts; 12% of participants in the CKD and 11% of participants in the other cohorts had an eGFR slope <−5 ml/min per 1.73 m2 per year, whereas 7% and 4% experienced an eGFR slope >+5 ml/min per 1.73 m2 per year during the antecedent period, respectively. There were no consistent differences in the age or sex distribution between subjects with antecedent slopes of <−5, ≥−5 to ≤+5, and >+5 ml/min per 1.73 m2 year; however, black subjects tended to be in the <−5 ml/min per 1.73 m2 category (Supplemental Table 1, Table 1). Subjects with annual slopes <−5 ml/min per 1.73 m2 per year had a higher prevalence of elevated albuminuria, were more often diabetic, and were more likely to have a history of cardiovascular disease (CVD) compared with subjects in the stable or increasing eGFR slope categories (Supplemental Table 2).\n",
      "Slope <−5 ml/yr is the declining eGFR group with an annualized eGFR slope of <−5 ml/min per 1.73 m2 per year. N, % is the proportion of the cohort belonging to a given slope category. Slope ≥−5 to ≤5 ml/yr is the stable eGFR group with an annualized GFR between ≥−5 and ≤5 ml/min per 1.73 m2 per year. Slope >5 ml/yr is the increasing eGFR group with an annualized eGFR slope of >5 ml/min per 1.73 m2 per year. SCre, serum creatinine measurements available during the antecedent period; CVM, cardiovascular mortality.\n",
      "Forest plot of HRs associated with a 6 ml/min per 1.73 m2 per year increase in eGFR (an eGFR slope of +6 ml/min per 1.73 m2 per year) over a 3-year antecedent period. Analyses are shown for (A) CKD cohorts and (B) other (general population and high cardiovascular risk) cohorts. Adjusted HRs within each cohort for ACM associated with an annualized increase of the eGFR of 6 ml/min per 1.73 m2 per year are depicted. The reference group for calculation of HRs was patients with stable eGFR values (i.e., slope =0 ml/min per 1.73 m2 per year). The HR for eGFR slope was adjusted for age, sex, race (black versus nonblack), systolic BP, total cholesterol, diabetes, history of CVD, and current (last) eGFR. AASK, African American Study of Kidney Disease and Hypertension; ADVANCE, The Action in Diabetes and Vascular Disease: Preterax and Diamicron Modified Release Controlled Evaluation Trial; AKDN_dipstick, Alberta Kidney Disease Network; ARIC, Atherosclerosis Risk in Communities Study; BC CKD, British Columbia CKD Study; CARE, The Cholesterol and Recurrent Events Trial; CCF, Cleveland Clinic CKD Registry Study; CHS, Cardiovascular Health Study; CIRCS, Circulatory Risk in Communities Study; Framingham, Framingham Heart Study; Geisinger, Geisinger CKD Study; GLOMMS 1, Grampian Laboratory Outcomes, Morbidity and Mortality Studies 1; IPHS, Ibaraki Prefectural Health Study; KP Hawaii, Kaiser Permanente Hawaii Cohort; KSHS, Kangbuk Samsung Health Study; MESA, Multi-Ethnic Study of Atherosclerosis; MRFIT, Multiple Risk Factor Intervention Trial; NZDCS, New Zealand Diabetes Cohort Study; Ohasama, Ohasama Study; Pima, Pima Indian Study; RanchoBernardo, Rancho Bernardo Study; Severance, Severance Cohort Study; Sunnybrook, Sunnybrook Cohort; Taiwan MJ, Taiwan MJ Cohort Study; VA CKD, Veterans Administration CKD Study; ZODIAC, Zwolle Outpatient Diabetes Project Integrating Available Care.\n",
      "The association between increasing eGFR and mortality is less intuitive. Rather than indicating improving true GFR, a rising eGFR may be an indicator of declining muscle mass or malnutrition, with the latter being responsible for the increase in ACM risk. However, exclusion of subjects who lost weight attenuated the risk of ACM on both ends of the eGFR slope spectrum but did not eliminate the U shape. Furthermore, a previous study reported an association between higher ACM risk and positive eGFR slope using cystatin C as a filtration marker, although cystatin C levels are less affected by muscle mass than creatinine, suggesting that a rising eGFR may reflect a rising true GFR.16 A rising prior true GFR may be caused by recovery from acute kidney disease associated with an acute illness, and it was the latter that was responsible for the observed increase in ACM risk rather than the rising true GFR per se. Finally, a rising true GFR could be seen with hyperfiltration in remnant nephrons, which could be associated with subsequent kidney disease progression, but it is not generally hypothesized to be associated with mortality. Because single-nephron GFR cannot be measured in humans, this mechanism remains speculative.\n",
      "eGFR was calculated using the Chronic Kidney Disease Epidemiology Collaboration 2009 creatinine equation.26 In cohorts without standardization of creatinine measurement to isotope dilution mass spectrometry, reported creatinine levels were multiplied by 0.95.27 For each participant, annualized eGFR slope (milliliters per minute per 1.73 m2 per year) was derived from ordinary least squares10 regression using all eGFR measurements available during the antecedent period. This study focuses on the population with available data in the 3-year antecedent interval (results for 1- and 2-year periods are presented in Supplemental Material). Rapidly declining, stable, and rapidly increasing eGFR slope were defined as antecedent slopes of <−5, −5 to +5, and >+5 ml/min per 1.73 m2 per year, respectively.28\n",
      "Because of an observed risk increase with antecedent increase in eGFR, we conducted several sensitivity analyses. First, we evaluated the associations of antecedent eGFR slope with cardiovascular (death caused by myocardial infarction, heart failure, stroke, or sudden cardiac death) and noncardiovascular (all other etiologies) mortality. Second, we assessed the effect of individual residual eGFR variability. We used the RMSE as an indicator of the variation of an individual’s eGFR values around his or her ordinary least squares regression line. The RMSE was included as a covariate and then, a stratifying variable (categorized as <5, 5–10, and >10). Third, to explore whether increasing eGFR reflected weight loss, we excluded subjects with antecedent weight loss >2 kg over the 3-year period. Fourth, to evaluate whether the U–shaped risk relationship might represent diabetes–associated glomerular hyperfiltration, we repeated analyses excluding persons with diabetes mellitus. Fifth, analyses were repeated according to whether individuals had ever been exposed to renin-angiotensin-system blocking medications in the antecedent interval as a covariate in the Cox model and then, a stratifying variable. Analyses were performed using Stata/SE 13 software (StataCorp., College Station, TX; www.stata.com). P values <0.05 were considered statistically significant.\n"
     ]
    }
   ],
   "source": [
    "from bs4 import BeautifulSoup\n",
    "\n",
    "# HTMLファイルを読み込む\n",
    "with open('../html/David_M_J_Naimark(2016).html', 'r', encoding='utf-8') as file:\n",
    "    html_content = file.read()\n",
    "\n",
    "# BeautifulSoupオブジェクトを作成\n",
    "soup = BeautifulSoup(html_content, 'html.parser')\n",
    "\n",
    "# pタグを抽出し、テキストを確認して条件に一致するものを表示\n",
    "paragraphs = soup.find_all('p')\n",
    "for p in paragraphs:\n",
    "    if \"increase in eGFR\" in p.text or \"increasing eGFR\" in p.text:\n",
    "        print(p.text)\n"
   ]
  },
  {
   "cell_type": "code",
   "execution_count": null,
   "id": "c35afa58-6145-4b97-af35-4834d15b1a0f",
   "metadata": {},
   "outputs": [],
   "source": []
  }
 ],
 "metadata": {
  "kernelspec": {
   "display_name": "Python 3 (ipykernel)",
   "language": "python",
   "name": "python3"
  },
  "language_info": {
   "codemirror_mode": {
    "name": "ipython",
    "version": 3
   },
   "file_extension": ".py",
   "mimetype": "text/x-python",
   "name": "python",
   "nbconvert_exporter": "python",
   "pygments_lexer": "ipython3",
   "version": "3.12.2"
  }
 },
 "nbformat": 4,
 "nbformat_minor": 5
}
