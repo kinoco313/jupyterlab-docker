{
 "cells": [
  {
   "cell_type": "code",
   "execution_count": 20,
   "id": "b942a2bd-6b55-47cf-9e67-06e0468f0cc7",
   "metadata": {},
   "outputs": [],
   "source": [
    "from bs4 import BeautifulSoup\n",
    "import os\n",
    "\n",
    "# HTMLファイルのディレクトリパス\n",
    "html_dir = '../html/'\n",
    "\n",
    "# 出力先のテキストファイルディレクトリパス\n",
    "output_dir = '../output/'\n",
    "\n",
    "# HTMLファイル名を格納するリストを作成\n",
    "# if句で、.ipynb_checkpoints/を無視\n",
    "html_files = [file for file in os.listdir(html_dir) if not file.startswith('.')]\n",
    "\n",
    "# 出力用のテキストファイルを作成するディレクトリを確認し、存在しない場合は作成する\n",
    "if not os.path.exists(output_dir):\n",
    "    os.makedirs(output_dir)\n",
    "\n",
    "for html_file in html_files:\n",
    "    # ファイルパスを生成\n",
    "    file_path = os.path.join(html_dir, html_file)\n",
    "\n",
    "    # HTMLファイルを読み込む\n",
    "    with open(file_path, 'r', encoding='utf-8') as file:\n",
    "        html_content = file.read()\n",
    "\n",
    "    # BeautifulSoupオブジェクトを作成\n",
    "    soup = BeautifulSoup(html_content, 'html.parser')\n",
    "\n",
    "    # 出力用のファイルパスを生成\n",
    "    output_file_path = os.path.join(output_dir, os.path.splitext(html_file)[0] + '.txt')\n",
    "\n",
    "    # 出力用のテキストファイルを開く\n",
    "    with open(output_file_path, 'w', encoding='utf-8') as output_file:\n",
    "        # pタグを抽出し、テキストを確認して条件に一致するものをテキストファイルに書き込む\n",
    "        paragraphs = soup.find_all('p')\n",
    "        for p in paragraphs:\n",
    "            if \"increase in eGFR\" in p.text or \"increasing eGFR\" in p.text:\n",
    "                output_file.write(f\"{p.text}\\n\\n\")\n"
   ]
  }
 ],
 "metadata": {
  "kernelspec": {
   "display_name": "Python 3 (ipykernel)",
   "language": "python",
   "name": "python3"
  },
  "language_info": {
   "codemirror_mode": {
    "name": "ipython",
    "version": 3
   },
   "file_extension": ".py",
   "mimetype": "text/x-python",
   "name": "python",
   "nbconvert_exporter": "python",
   "pygments_lexer": "ipython3",
   "version": "3.12.2"
  }
 },
 "nbformat": 4,
 "nbformat_minor": 5
}
