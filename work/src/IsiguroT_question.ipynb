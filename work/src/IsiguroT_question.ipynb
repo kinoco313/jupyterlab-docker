{
 "cells": [
  {
   "cell_type": "markdown",
   "id": "27cb2dab-4e40-4730-b9a3-641fbee3cec9",
   "metadata": {},
   "source": [
    "# 結論\n",
    "## 平均値の積と、積の平均値は基本的に一致しない\n",
    "## ただし、2つの変数が無相関なら一致する\n",
    "## 標準偏差の積と、積の標準偏差はまったく一致しない\n",
    "### （数学的にも証明されているそうです）"
   ]
  },
  {
   "cell_type": "markdown",
   "id": "64f620d3-ad7c-4391-a86d-291d4328ca64",
   "metadata": {},
   "source": [
    "## 正規分布に従う乱数を使って検証してみる"
   ]
  },
  {
   "cell_type": "code",
   "execution_count": 1,
   "id": "3b702015-7b5d-4856-bba8-b926dc41aa33",
   "metadata": {},
   "outputs": [],
   "source": [
    "# ライブラリの読み込み\n",
    "import numpy as np\n",
    "import pandas as pd"
   ]
  },
  {
   "cell_type": "code",
   "execution_count": 2,
   "id": "06a011f2-ba88-47ac-934b-8f3302ecd3ce",
   "metadata": {},
   "outputs": [
    {
     "data": {
      "text/html": [
       "<div>\n",
       "<style scoped>\n",
       "    .dataframe tbody tr th:only-of-type {\n",
       "        vertical-align: middle;\n",
       "    }\n",
       "\n",
       "    .dataframe tbody tr th {\n",
       "        vertical-align: top;\n",
       "    }\n",
       "\n",
       "    .dataframe thead th {\n",
       "        text-align: right;\n",
       "    }\n",
       "</style>\n",
       "<table border=\"1\" class=\"dataframe\">\n",
       "  <thead>\n",
       "    <tr style=\"text-align: right;\">\n",
       "      <th></th>\n",
       "      <th>cells</th>\n",
       "      <th>positive_rate</th>\n",
       "    </tr>\n",
       "  </thead>\n",
       "  <tbody>\n",
       "    <tr>\n",
       "      <th>0</th>\n",
       "      <td>1148.079472</td>\n",
       "      <td>0.447671</td>\n",
       "    </tr>\n",
       "    <tr>\n",
       "      <th>1</th>\n",
       "      <td>1080.373256</td>\n",
       "      <td>0.475076</td>\n",
       "    </tr>\n",
       "    <tr>\n",
       "      <th>2</th>\n",
       "      <td>1002.728656</td>\n",
       "      <td>0.624172</td>\n",
       "    </tr>\n",
       "    <tr>\n",
       "      <th>3</th>\n",
       "      <td>832.720773</td>\n",
       "      <td>0.538457</td>\n",
       "    </tr>\n",
       "    <tr>\n",
       "      <th>4</th>\n",
       "      <td>998.923528</td>\n",
       "      <td>0.705619</td>\n",
       "    </tr>\n",
       "  </tbody>\n",
       "</table>\n",
       "</div>"
      ],
      "text/plain": [
       "         cells  positive_rate\n",
       "0  1148.079472       0.447671\n",
       "1  1080.373256       0.475076\n",
       "2  1002.728656       0.624172\n",
       "3   832.720773       0.538457\n",
       "4   998.923528       0.705619"
      ]
     },
     "execution_count": 2,
     "metadata": {},
     "output_type": "execute_result"
    }
   ],
   "source": [
    "# 平均1000、標準偏差100の正規分布に従う乱数を1000個生成\n",
    "cells = np.random.normal(loc = 1000, scale = 100, size = 1000)\n",
    "\n",
    "# 平均0.5、標準偏差0.1の正規分布に従う乱数を生成（50％、10％のつもり）\n",
    "positive_rate = np.random.normal(loc = 0.5, scale = 0.1, size = 1000)\n",
    "\n",
    "# データフレームにして結合\n",
    "df_cells = pd.DataFrame(cells)\n",
    "df_positive_rate = pd.DataFrame(positive_rate)\n",
    "df = pd.concat([df_cells, df_positive_rate], axis=1)\n",
    "df.columns = ['cells', 'positive_rate']\n",
    "df.head(5)"
   ]
  },
  {
   "cell_type": "markdown",
   "id": "392370aa-0651-4f84-a131-a98421a8f920",
   "metadata": {},
   "source": [
    "## それぞれの平均と標準編差、2変数の共分散を算出"
   ]
  },
  {
   "cell_type": "code",
   "execution_count": 34,
   "id": "fb22f012-62f4-4f98-a135-0697b27b5b74",
   "metadata": {},
   "outputs": [
    {
     "name": "stdout",
     "output_type": "stream",
     "text": [
      "細胞数の平均は1002.8113762047504, 標準偏差は100.56963436792925\n",
      "陽性率の平均は0.49793805264247487, 標準偏差は0.10211408797440238\n",
      "細胞数と陽性率の共分散は, 0.05964850170207917\n"
     ]
    }
   ],
   "source": [
    "mean_cells = df['cells'].mean()\n",
    "sd_cells = df['cells'].std()\n",
    "mean_positive_rate = df['positive_rate'].mean()\n",
    "sd_positive_rate = df['positive_rate'].std()\n",
    "cov_cells_positive_rate = df.cov().iloc[0,1]\n",
    "\n",
    "print(f'細胞数の平均は{mean_cells}, 標準偏差は{sd_cells}')\n",
    "print(f'陽性率の平均は{mean_positive_rate}, 標準偏差は{sd_positive_rate}')\n",
    "print(f'細胞数と陽性率の共分散は, {cov_cells_positive_rate}')"
   ]
  },
  {
   "cell_type": "code",
   "execution_count": 35,
   "id": "c343208c-a8ff-4277-a63d-a955a3e328d4",
   "metadata": {},
   "outputs": [
    {
     "data": {
      "text/html": [
       "<div>\n",
       "<style scoped>\n",
       "    .dataframe tbody tr th:only-of-type {\n",
       "        vertical-align: middle;\n",
       "    }\n",
       "\n",
       "    .dataframe tbody tr th {\n",
       "        vertical-align: top;\n",
       "    }\n",
       "\n",
       "    .dataframe thead th {\n",
       "        text-align: right;\n",
       "    }\n",
       "</style>\n",
       "<table border=\"1\" class=\"dataframe\">\n",
       "  <thead>\n",
       "    <tr style=\"text-align: right;\">\n",
       "      <th></th>\n",
       "      <th>cells</th>\n",
       "      <th>positive_rate</th>\n",
       "      <th>positive</th>\n",
       "    </tr>\n",
       "  </thead>\n",
       "  <tbody>\n",
       "    <tr>\n",
       "      <th>0</th>\n",
       "      <td>1148.079472</td>\n",
       "      <td>0.447671</td>\n",
       "      <td>513.962228</td>\n",
       "    </tr>\n",
       "    <tr>\n",
       "      <th>1</th>\n",
       "      <td>1080.373256</td>\n",
       "      <td>0.475076</td>\n",
       "      <td>513.259199</td>\n",
       "    </tr>\n",
       "    <tr>\n",
       "      <th>2</th>\n",
       "      <td>1002.728656</td>\n",
       "      <td>0.624172</td>\n",
       "      <td>625.875465</td>\n",
       "    </tr>\n",
       "    <tr>\n",
       "      <th>3</th>\n",
       "      <td>832.720773</td>\n",
       "      <td>0.538457</td>\n",
       "      <td>448.383998</td>\n",
       "    </tr>\n",
       "    <tr>\n",
       "      <th>4</th>\n",
       "      <td>998.923528</td>\n",
       "      <td>0.705619</td>\n",
       "      <td>704.859237</td>\n",
       "    </tr>\n",
       "  </tbody>\n",
       "</table>\n",
       "</div>"
      ],
      "text/plain": [
       "         cells  positive_rate    positive\n",
       "0  1148.079472       0.447671  513.962228\n",
       "1  1080.373256       0.475076  513.259199\n",
       "2  1002.728656       0.624172  625.875465\n",
       "3   832.720773       0.538457  448.383998\n",
       "4   998.923528       0.705619  704.859237"
      ]
     },
     "execution_count": 35,
     "metadata": {},
     "output_type": "execute_result"
    }
   ],
   "source": [
    "# 陽性数を追加\n",
    "df['positive'] = df['cells'] * df['positive_rate']\n",
    "df.head(5)"
   ]
  },
  {
   "cell_type": "markdown",
   "id": "42ca23ff-2ad9-4ccf-99ff-41811b6231b0",
   "metadata": {},
   "source": [
    "### 陽性数の平均と標準偏差を計算し、細胞数と陽性率の平均値、標準偏差の積と比較する"
   ]
  },
  {
   "cell_type": "code",
   "execution_count": 39,
   "id": "dacb8211-34d7-42bf-8c1d-89186d5dc5c4",
   "metadata": {},
   "outputs": [
    {
     "name": "stdout",
     "output_type": "stream",
     "text": [
      "陽性数の平均（積の平均）は499.39753268831413, 標準偏差（積の標準偏差）は114.29226143947854\n",
      "細胞数と陽性率の平均値の積は499.3379438351137, 標準偏差の積は10.26957649140021\n"
     ]
    }
   ],
   "source": [
    "mean_positive = df['positive'].mean()\n",
    "sd_positive = df['positive'].std()\n",
    "\n",
    "mean_product = mean_cells * mean_positive_rate\n",
    "sd_product = sd_cells * sd_positive_rate\n",
    "\n",
    "print(f'陽性数の平均（積の平均）は{mean_positive}, 標準偏差（積の標準偏差）は{sd_positive}')\n",
    "print(f'細胞数と陽性率の平均値の積は{mean_product}, 標準偏差の積は{sd_product}')"
   ]
  },
  {
   "cell_type": "markdown",
   "id": "0b0346bc-5df3-4639-b987-af0f330d1abe",
   "metadata": {},
   "source": [
    "### 平均のずれは、細胞数と陽性率の共分散に一致"
   ]
  },
  {
   "cell_type": "code",
   "execution_count": 37,
   "id": "9df8f492-cbbc-4b2d-86f7-e3fc27609cac",
   "metadata": {},
   "outputs": [
    {
     "name": "stdout",
     "output_type": "stream",
     "text": [
      "平均のずれは, 0.05958885320040963\n",
      "共分散は, 0.05964850170207917\n"
     ]
    }
   ],
   "source": [
    "print(f'平均のずれは, {mean_positive - mean_product}')\n",
    "print(f'共分散は, {cov_cells_positive_rate}')"
   ]
  }
 ],
 "metadata": {
  "kernelspec": {
   "display_name": "Python 3 (ipykernel)",
   "language": "python",
   "name": "python3"
  },
  "language_info": {
   "codemirror_mode": {
    "name": "ipython",
    "version": 3
   },
   "file_extension": ".py",
   "mimetype": "text/x-python",
   "name": "python",
   "nbconvert_exporter": "python",
   "pygments_lexer": "ipython3",
   "version": "3.12.3"
  }
 },
 "nbformat": 4,
 "nbformat_minor": 5
}
