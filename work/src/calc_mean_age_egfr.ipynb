{
 "cells": [
  {
   "cell_type": "code",
   "execution_count": 1,
   "id": "ba4644e7-ba12-4c5b-8ae0-24154f820a90",
   "metadata": {},
   "outputs": [],
   "source": [
    "# 使用パッケージ\n",
    "import numpy as np\n",
    "import pandas as pd"
   ]
  },
  {
   "cell_type": "code",
   "execution_count": 11,
   "id": "c9a5f0ab-fc8f-4e11-880d-feea2c4df50e",
   "metadata": {},
   "outputs": [
    {
     "name": "stdout",
     "output_type": "stream",
     "text": [
      "86.17454908281526 53.975001918796536 13029\n"
     ]
    }
   ],
   "source": [
    "# K.Matsushita(2009)の平均年齢,平均最終eGFRを計算\n",
    "size = np.array([3258, 3257, 3257, 3257])\n",
    "egfr = np.array([80.3, 80.0, 90.1, 94.3])\n",
    "age = np.array([54.0, 53.8, 53.2, 54.9])\n",
    "\n",
    "mean_egfr = np.dot(size, mean) / size.sum()\n",
    "mean_age = np.dot(size, age) / size.sum()\n",
    "\n",
    "print(mean_egfr, mean_age, size.sum())\n"
   ]
  },
  {
   "cell_type": "code",
   "execution_count": 9,
   "id": "1f29bc70-e1bd-4d82-b026-02d1b0bb47c1",
   "metadata": {},
   "outputs": [
    {
     "name": "stdout",
     "output_type": "stream",
     "text": [
      "47.27801486454088 72.46528410453128 4171\n"
     ]
    }
   ],
   "source": [
    "# Al-Aly(2010)の平均年齢と平均最終egfrを計算\n",
    "\n",
    "size = np.array([1604, 426, 1147, 994])\n",
    "egfr = np.array([54.9, 48.3, 44.8, 37.4])\n",
    "age = np.array([71.6, 73.0, 73.1, 72.9])\n",
    "\n",
    "mean_egfr = np.dot(size, egfr) / size.sum()\n",
    "mean_age = np.dot(size, age) / size.sum()\n",
    "\n",
    "print(mean_egfr, mean_age, size.sum())\n"
   ]
  },
  {
   "cell_type": "code",
   "execution_count": 13,
   "id": "bfe39006-d18c-47d4-b2d4-3067fa695bfb",
   "metadata": {},
   "outputs": [
    {
     "name": "stdout",
     "output_type": "stream",
     "text": [
      "74.23460071128355 15465\n"
     ]
    }
   ],
   "source": [
    "# Perkin(2011)の平均年齢と平均最終egfrを計算\n",
    "# egfrのデータがなかったので、平均年齢のみ\n",
    "\n",
    "size = np.array([5103, 5255, 5107])\n",
    "age = np.array([75.5, 74.4, 72.8])\n",
    "\n",
    "mean_age = np.dot(size, age) / size.sum()\n",
    "\n",
    "print(mean_age, size.sum())\n"
   ]
  },
  {
   "cell_type": "code",
   "execution_count": 16,
   "id": "de7802aa-c95d-43ac-9496-1b022e132232",
   "metadata": {},
   "outputs": [
    {
     "name": "stdout",
     "output_type": "stream",
     "text": [
      "59.373394708602866 529312\n"
     ]
    }
   ],
   "source": [
    "# TC.Turin(2013)の平均年齢を計算\n",
    "# egfrはカテゴリ化されていたため、平均の計算ができない\n",
    "\n",
    "size = np.array([62402, 28457, 40676, 55649, 70601, 135804, 44542, 31612, 20861, 13857, 24851])\n",
    "age = np.array([58.6, 59.2, 59.6, 59.6, 59.7, 60.0, 60.1, 59.5, 58.8, 58.3, 55.9])\n",
    "\n",
    "mean_age = np.dot(size, age) / size.sum()\n",
    "\n",
    "print(mean_age, size.sum())"
   ]
  }
 ],
 "metadata": {
  "kernelspec": {
   "display_name": "Python 3 (ipykernel)",
   "language": "python",
   "name": "python3"
  },
  "language_info": {
   "codemirror_mode": {
    "name": "ipython",
    "version": 3
   },
   "file_extension": ".py",
   "mimetype": "text/x-python",
   "name": "python",
   "nbconvert_exporter": "python",
   "pygments_lexer": "ipython3",
   "version": "3.12.2"
  }
 },
 "nbformat": 4,
 "nbformat_minor": 5
}
