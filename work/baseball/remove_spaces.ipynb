{
 "cells": [
  {
   "cell_type": "markdown",
   "id": "291ebae4-1bf8-450d-ba0a-9d115f5ac6a6",
   "metadata": {},
   "source": [
    "# csvファイル内の半角スペースを削除する\n",
    "## データ読み込み"
   ]
  },
  {
   "cell_type": "code",
   "execution_count": 9,
   "id": "1264d6ab-6f50-4e64-865d-bed708e53d9c",
   "metadata": {},
   "outputs": [],
   "source": [
    "import csv\n",
    "import re\n",
    "\n",
    "# CSV ファイルの読み込みと書き込み\n",
    "input_file = 'team_batting_14_23.csv'\n",
    "output_file = 'new_team_batting_14_23.csv'\n",
    "\n",
    "with open(input_file, 'r', newline='', encoding='utf-8') as csvfile:\n",
    "    reader = csv.reader(csvfile)\n",
    "    rows = list(reader)  # CSV ファイル全体を読み込む\n"
   ]
  },
  {
   "cell_type": "code",
   "execution_count": 11,
   "id": "801c8de1-9f2f-4493-ac47-8d5c9c745ab9",
   "metadata": {},
   "outputs": [],
   "source": [
    "# CSV ファイル内のデータから半角スペースと全角スペースを取り除く\n",
    "cleaned_rows = []\n",
    "for row in rows:\n",
    "    cleaned_row = [re.sub(r'[\\s\\u3000]+', '', cell) for cell in row]\n",
    "    cleaned_rows.append(cleaned_row)"
   ]
  },
  {
   "cell_type": "code",
   "execution_count": 12,
   "id": "a31e1679-038e-406f-83b7-bb17d4065009",
   "metadata": {},
   "outputs": [],
   "source": [
    "# クリーンアップされたデータを新しい CSV ファイルに書き込む\n",
    "with open(output_file, 'w', newline='', encoding='utf-8') as csvfile:\n",
    "    writer = csv.writer(csvfile)\n",
    "    writer.writerows(cleaned_rows)"
   ]
  },
  {
   "cell_type": "code",
   "execution_count": null,
   "id": "2df6bfe9-f8c2-47a9-9f21-228c3207888e",
   "metadata": {},
   "outputs": [],
   "source": []
  }
 ],
 "metadata": {
  "kernelspec": {
   "display_name": "Python 3 (ipykernel)",
   "language": "python",
   "name": "python3"
  },
  "language_info": {
   "codemirror_mode": {
    "name": "ipython",
    "version": 3
   },
   "file_extension": ".py",
   "mimetype": "text/x-python",
   "name": "python",
   "nbconvert_exporter": "python",
   "pygments_lexer": "ipython3",
   "version": "3.12.3"
  }
 },
 "nbformat": 4,
 "nbformat_minor": 5
}
